{
 "cells": [
  {
   "cell_type": "code",
   "execution_count": 1,
   "metadata": {},
   "outputs": [
    {
     "name": "stdout",
     "output_type": "stream",
     "text": [
      "txtPath='/mnt/nvme/btrfs/enwiki-20220601-pages-articles-multistream.xml'\n",
      "histOutputPath='/mnt/nvme/btrfs/hist89-4gram.mm'\n"
     ]
    }
   ],
   "source": [
    "import os\n",
    "from dotenv import dotenv_values\n",
    "from tqdm.notebook import tqdm\n",
    "import numpy as np\n",
    "\n",
    "env = dotenv_values()\n",
    "txtFilemame = \"enwiki-20220601-pages-articles-multistream.xml\"\n",
    "txtPath = os.path.join(env['STORE_PATH'],txtFilemame)\n",
    "n = 4\n",
    "histOutputPath = os.path.join(env['STORE_PATH'],\"hist89-{}gram.mm\".format(n))\n",
    "print(f\"{txtPath=}\")\n",
    "print(f\"{histOutputPath=}\")"
   ]
  },
  {
   "cell_type": "code",
   "execution_count": 2,
   "metadata": {},
   "outputs": [
    {
     "data": {
      "application/vnd.jupyter.widget-view+json": {
       "model_id": "64b1ff54993341ab800c116d21bac6a7",
       "version_major": 2,
       "version_minor": 0
      },
      "text/plain": [
       "0it [00:00, ?it/s]"
      ]
     },
     "metadata": {},
     "output_type": "display_data"
    },
    {
     "name": "stdout",
     "output_type": "stream",
     "text": [
      "i=0, offset=0\n"
     ]
    }
   ],
   "source": [
    "%%time\n",
    "blocksize = 0xC0000000 * 4 #bytes\n",
    "fp = np.memmap(histOutputPath, dtype=np.uint32, mode='w+', shape=(4294967296,))\n",
    "txt = np.memmap(txtPath,mode='r',dtype=np.uint8)\n",
    "def view(txt,i,offset):\n",
    "    start = blocksize*i+offset\n",
    "    end = blocksize*(i+1)+offset\n",
    "    view = txt[start:end]\n",
    "    view = txt[start:(start+len(view)-len(view)%4)]\n",
    "    return view.view(np.uint32)\n",
    "create_bincount = lambda i,offset : np.bincount(view(txt,i,offset),minlength=0x100000000)\n",
    "for i, offset in tqdm(np.ndindex((int(len(txt)/blocksize)+1,4))):\n",
    "    print(f\"{i=}, {offset=}\")\n",
    "    %time fp+=create_bincount(i,offset).astype(dtype=np.uint32,copy=False)\n",
    "!chmod 444 \"$histOutputPath\""
   ]
  },
  {
   "cell_type": "code",
   "execution_count": null,
   "metadata": {},
   "outputs": [],
   "source": [
    "n = 4\n",
    "fp = np.memmap('/mnt/nvme/btrfs/hist89-{}gram.mm'.format(n), dtype=np.uint32, mode='r', shape=(4294967296,))"
   ]
  }
 ],
 "metadata": {
  "kernelspec": {
   "display_name": "Python 3.10.4 ('env': venv)",
   "language": "python",
   "name": "python3"
  },
  "language_info": {
   "codemirror_mode": {
    "name": "ipython",
    "version": 3
   },
   "file_extension": ".py",
   "mimetype": "text/x-python",
   "name": "python",
   "nbconvert_exporter": "python",
   "pygments_lexer": "ipython3",
   "version": "3.10.4"
  },
  "orig_nbformat": 4,
  "vscode": {
   "interpreter": {
    "hash": "414b6f3079c4b8e71ecdb0ffb45eb0958055c6f8812ebc657bd37febf4264936"
   }
  }
 },
 "nbformat": 4,
 "nbformat_minor": 2
}
